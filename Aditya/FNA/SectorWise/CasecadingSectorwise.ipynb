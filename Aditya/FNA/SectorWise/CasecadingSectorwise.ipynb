{
 "cells": [
  {
   "cell_type": "code",
   "execution_count": null,
   "metadata": {},
   "outputs": [],
   "source": [
    "import matplotlib.pyplot as plt\n",
    "import pandas as pd\n",
    "import numpy as np\n",
    "import networkx as nx\n",
    "plt.rcParams['figure.figsize'] = [15, 15]\n",
    "\n",
    "Graph_data = nx.MultiDiGraph()\n",
    "\n",
    "def print_graph(failed_names):\n",
    "    color_map = []\n",
    "    for node in Graph_data:\n",
    "        if node in failed_names:\n",
    "            color_map.append('blue')\n",
    "            #print (node)\n",
    "        else :\n",
    "            color_map.append('red')\n",
    "    nx.draw(Graph_data, with_labels=True,node_color = color_map, node_size=[v * 1000 for v in node_sizes.values()])\n",
    "    plt.show()\n",
    "    \n",
    "thetas = np.arange(0.8,1.001,0.005)\n",
    "Years = ['2000','2001','2002','2003','2004','2005','2006','2007','2008','2009','2010','2011','2012','2013','2014']\n",
    "\n",
    "cascade_result = pd.DataFrame()\n",
    "\n",
    "for y in range(1,len(Years)):\n",
    "    Country_matrix1 = pd.read_csv('TotalSectorWiseData' +Years[y] + '.csv')\n",
    "    Country_matrix2 = pd.read_csv('TotalSectorWiseData' +Years[y-1] + '.csv')\n",
    "    Country_matrix1 = Country_matrix1.set_index('Unnamed: 0')\n",
    "    Country_matrix2 = Country_matrix2.set_index('Unnamed: 0')\n",
    "    \n",
    "    Country_matrix1 = Country_matrix1.drop(Country_matrix1.index[[476]])\n",
    "    Country_matrix2 = Country_matrix2.drop(Country_matrix2.index[[476]])\n",
    "    del Country_matrix2['RUS(Entertainment)']\n",
    "    del Country_matrix1['RUS(Entertainment)']\n",
    "    n = len(Country_matrix1)\n",
    "    \n",
    "    Countries = list(Country_matrix1)\n",
    "    \n",
    "    gdp_1 = sum(np.matrix(Country_matrix1))\n",
    "    gdp_2 = sum(np.matrix(Country_matrix2))\n",
    "    normalizing_value = max(gdp_1)\n",
    "    \n",
    "    gdp_2_normalized = [x / normalizing_value for x in gdp_2]\n",
    "    gdp_1_normalized = [x / normalizing_value for x in gdp_1]\n",
    "    fraction_gdp_loss = (gdp_2-gdp_1)/gdp_2\n",
    "    \n",
    "    fraction_ownership = np.matrix(Country_matrix1)/gdp_1\n",
    "    C_hat = np.matrix(np.diag(np.diag(fraction_ownership)))\n",
    "    C_matrix = fraction_ownership - C_hat\n",
    "    A_matrix = np.dot(C_hat, np.linalg.inv((np.diag(np.ones(len(C_matrix))) - C_matrix)))\n",
    "    \n",
    "    p = np.matrix(gdp_1_normalized[0]).T\n",
    "    \n",
    "    theta_failled = []\n",
    "\n",
    "    for theta in thetas:\n",
    "        v_threshold = theta*(np.dot(A_matrix, gdp_2_normalized[0].T))\n",
    "\n",
    "        pcurrent = p\n",
    "    \n",
    "        all_failure_indicator = (np.full((1, n), False)).astype(int)\n",
    "\n",
    "        node_size = list(np.array(np.dot(A_matrix, pcurrent)).T[0])\n",
    "    \n",
    "        node_sizes = {}\n",
    "        for i in range(len(node_size)):\n",
    "            node_sizes[Countries[i]] = node_size[i]\n",
    "        node_sizes\n",
    "    \n",
    "        for country in Countries:\n",
    "            Graph_data.add_node(country)\n",
    "    \n",
    "        for country in Countries:\n",
    "            for country2 in Countries:\n",
    "                if country != country2:\n",
    "                    Graph_data.add_weighted_edges_from([(country, country2, Country_matrix1[country][country2])])\n",
    "                \n",
    "        wave = 0\n",
    "        wave_failled = []\n",
    "        while (wave == 0) or (len(new_failed_names) != 0):\n",
    "            wave = wave + 1\n",
    "    \n",
    "            new_failure_indicator = (np.array((np.dot(A_matrix, pcurrent).T < v_threshold.T).astype(int)) * ((all_failure_indicator == 0))).T\n",
    "            all_failure_indicator = all_failure_indicator | new_failure_indicator.T\n",
    "            pcurrent = pcurrent - np.multiply(new_failure_indicator, v_threshold/2)\n",
    "            new_failed_countries = np.where(all_failure_indicator[0] == 1)[0]\n",
    "            a = np.where(new_failure_indicator.T[0] == 1)\n",
    "    \n",
    "            node_size = list(np.array(np.dot(A_matrix, pcurrent)).T[0])\n",
    "\n",
    "            node_sizes = {}\n",
    "            for i in range(len(node_size)):\n",
    "                node_sizes[Countries[i]] = node_size[i]\n",
    "    \n",
    "            failed_names = []\n",
    "    \n",
    "            for x in list(new_failed_countries):\n",
    "                failed_names.append(Countries[x])\n",
    "     \n",
    "            new_failed_names = []\n",
    "    \n",
    "            for x in list(a[0]):\n",
    "                new_failed_names.append(Countries[x])\n",
    "            wave_failled.append(new_failed_names)\n",
    "            \n",
    "        theta_failled.append(wave_failled)\n",
    "            \n",
    "    cascade_result[Years[y]] = theta_failled\n",
    "cascade_result.index = thetas\n",
    "cascade_result.to_csv('Result.csv')"
   ]
  },
  {
   "cell_type": "code",
   "execution_count": 25,
   "metadata": {},
   "outputs": [],
   "source": [
    "import matplotlib.pyplot as plt\n",
    "%matplotlib inline\n",
    "import pandas as pd\n",
    "import numpy as np\n",
    "import networkx as nx\n",
    "plt.rcParams['figure.figsize'] = [15, 15]\n",
    "\n",
    "Graph_data = nx.MultiDiGraph()"
   ]
  },
  {
   "cell_type": "code",
   "execution_count": 78,
   "metadata": {},
   "outputs": [
    {
     "data": {
      "text/html": [
       "<div>\n",
       "<style scoped>\n",
       "    .dataframe tbody tr th:only-of-type {\n",
       "        vertical-align: middle;\n",
       "    }\n",
       "\n",
       "    .dataframe tbody tr th {\n",
       "        vertical-align: top;\n",
       "    }\n",
       "\n",
       "    .dataframe thead th {\n",
       "        text-align: right;\n",
       "    }\n",
       "</style>\n",
       "<table border=\"1\" class=\"dataframe\">\n",
       "  <thead>\n",
       "    <tr style=\"text-align: right;\">\n",
       "      <th></th>\n",
       "      <th>AUS(Agricultural)</th>\n",
       "      <th>AUS(Manufacturing)</th>\n",
       "      <th>AUS(Mining)</th>\n",
       "      <th>AUS(Power)</th>\n",
       "      <th>AUS(Water)</th>\n",
       "      <th>AUS(Retail)</th>\n",
       "      <th>AUS(Transportation)</th>\n",
       "      <th>AUS(Food)</th>\n",
       "      <th>AUS(Entertainment)</th>\n",
       "      <th>AUS(IT)</th>\n",
       "      <th>...</th>\n",
       "      <th>ROW(Power)</th>\n",
       "      <th>ROW(Water)</th>\n",
       "      <th>ROW(Retail)</th>\n",
       "      <th>ROW(Transportation)</th>\n",
       "      <th>ROW(Food)</th>\n",
       "      <th>ROW(Entertainment)</th>\n",
       "      <th>ROW(IT)</th>\n",
       "      <th>ROW(Finance)</th>\n",
       "      <th>ROW(Education)</th>\n",
       "      <th>ROW(Automobile)</th>\n",
       "    </tr>\n",
       "    <tr>\n",
       "      <th>Unnamed: 0</th>\n",
       "      <th></th>\n",
       "      <th></th>\n",
       "      <th></th>\n",
       "      <th></th>\n",
       "      <th></th>\n",
       "      <th></th>\n",
       "      <th></th>\n",
       "      <th></th>\n",
       "      <th></th>\n",
       "      <th></th>\n",
       "      <th></th>\n",
       "      <th></th>\n",
       "      <th></th>\n",
       "      <th></th>\n",
       "      <th></th>\n",
       "      <th></th>\n",
       "      <th></th>\n",
       "      <th></th>\n",
       "      <th></th>\n",
       "      <th></th>\n",
       "      <th></th>\n",
       "    </tr>\n",
       "  </thead>\n",
       "  <tbody>\n",
       "    <tr>\n",
       "      <th>AUS(Agricultural)</th>\n",
       "      <td>13588.090783</td>\n",
       "      <td>5199.024283</td>\n",
       "      <td>122.549363</td>\n",
       "      <td>534.098308</td>\n",
       "      <td>2679.971937</td>\n",
       "      <td>3238.736075</td>\n",
       "      <td>2120.439248</td>\n",
       "      <td>180.693482</td>\n",
       "      <td>112.887843</td>\n",
       "      <td>150.731117</td>\n",
       "      <td>...</td>\n",
       "      <td>1.062591</td>\n",
       "      <td>16.718117</td>\n",
       "      <td>15.200032</td>\n",
       "      <td>74.873009</td>\n",
       "      <td>76.142623</td>\n",
       "      <td>5.900960</td>\n",
       "      <td>1.519048</td>\n",
       "      <td>34.344245</td>\n",
       "      <td>59.681608</td>\n",
       "      <td>18.748025</td>\n",
       "    </tr>\n",
       "    <tr>\n",
       "      <th>AUS(Manufacturing)</th>\n",
       "      <td>28379.296358</td>\n",
       "      <td>38738.218419</td>\n",
       "      <td>24313.406554</td>\n",
       "      <td>7374.747167</td>\n",
       "      <td>2819.389322</td>\n",
       "      <td>13078.478399</td>\n",
       "      <td>14901.913058</td>\n",
       "      <td>1317.003570</td>\n",
       "      <td>854.645924</td>\n",
       "      <td>1659.816854</td>\n",
       "      <td>...</td>\n",
       "      <td>55.500607</td>\n",
       "      <td>118.810668</td>\n",
       "      <td>390.240738</td>\n",
       "      <td>775.420945</td>\n",
       "      <td>594.144021</td>\n",
       "      <td>79.944616</td>\n",
       "      <td>21.553076</td>\n",
       "      <td>212.755413</td>\n",
       "      <td>248.448469</td>\n",
       "      <td>55.759338</td>\n",
       "    </tr>\n",
       "    <tr>\n",
       "      <th>AUS(Mining)</th>\n",
       "      <td>560.309594</td>\n",
       "      <td>8974.335993</td>\n",
       "      <td>4492.037652</td>\n",
       "      <td>3137.758321</td>\n",
       "      <td>7707.641785</td>\n",
       "      <td>4362.350024</td>\n",
       "      <td>4601.220504</td>\n",
       "      <td>1349.722417</td>\n",
       "      <td>370.799047</td>\n",
       "      <td>429.335837</td>\n",
       "      <td>...</td>\n",
       "      <td>10.696834</td>\n",
       "      <td>86.643642</td>\n",
       "      <td>86.250594</td>\n",
       "      <td>297.373241</td>\n",
       "      <td>611.399571</td>\n",
       "      <td>15.105845</td>\n",
       "      <td>5.421622</td>\n",
       "      <td>104.862540</td>\n",
       "      <td>233.400884</td>\n",
       "      <td>57.951465</td>\n",
       "    </tr>\n",
       "    <tr>\n",
       "      <th>AUS(Power)</th>\n",
       "      <td>16.839482</td>\n",
       "      <td>1175.754135</td>\n",
       "      <td>998.395177</td>\n",
       "      <td>18182.814397</td>\n",
       "      <td>2966.595668</td>\n",
       "      <td>712.234618</td>\n",
       "      <td>751.730968</td>\n",
       "      <td>104.759146</td>\n",
       "      <td>65.619152</td>\n",
       "      <td>280.918040</td>\n",
       "      <td>...</td>\n",
       "      <td>5.889929</td>\n",
       "      <td>28.846039</td>\n",
       "      <td>13.512202</td>\n",
       "      <td>86.937123</td>\n",
       "      <td>45.837034</td>\n",
       "      <td>1.409978</td>\n",
       "      <td>2.343012</td>\n",
       "      <td>36.530058</td>\n",
       "      <td>46.426905</td>\n",
       "      <td>3.798949</td>\n",
       "    </tr>\n",
       "    <tr>\n",
       "      <th>AUS(Water)</th>\n",
       "      <td>881.959436</td>\n",
       "      <td>45983.342844</td>\n",
       "      <td>2501.037942</td>\n",
       "      <td>1789.910818</td>\n",
       "      <td>111095.004218</td>\n",
       "      <td>13559.512535</td>\n",
       "      <td>10236.400956</td>\n",
       "      <td>1926.548898</td>\n",
       "      <td>1171.585891</td>\n",
       "      <td>3206.448231</td>\n",
       "      <td>...</td>\n",
       "      <td>11.927153</td>\n",
       "      <td>1049.375107</td>\n",
       "      <td>88.959063</td>\n",
       "      <td>300.552332</td>\n",
       "      <td>848.946128</td>\n",
       "      <td>64.030242</td>\n",
       "      <td>24.078863</td>\n",
       "      <td>168.646854</td>\n",
       "      <td>509.279321</td>\n",
       "      <td>112.070980</td>\n",
       "    </tr>\n",
       "  </tbody>\n",
       "</table>\n",
       "<p>5 rows × 572 columns</p>\n",
       "</div>"
      ],
      "text/plain": [
       "                    AUS(Agricultural)  AUS(Manufacturing)   AUS(Mining)  \\\n",
       "Unnamed: 0                                                                \n",
       "AUS(Agricultural)        13588.090783         5199.024283    122.549363   \n",
       "AUS(Manufacturing)       28379.296358        38738.218419  24313.406554   \n",
       "AUS(Mining)                560.309594         8974.335993   4492.037652   \n",
       "AUS(Power)                  16.839482         1175.754135    998.395177   \n",
       "AUS(Water)                 881.959436        45983.342844   2501.037942   \n",
       "\n",
       "                      AUS(Power)     AUS(Water)   AUS(Retail)  \\\n",
       "Unnamed: 0                                                      \n",
       "AUS(Agricultural)     534.098308    2679.971937   3238.736075   \n",
       "AUS(Manufacturing)   7374.747167    2819.389322  13078.478399   \n",
       "AUS(Mining)          3137.758321    7707.641785   4362.350024   \n",
       "AUS(Power)          18182.814397    2966.595668    712.234618   \n",
       "AUS(Water)           1789.910818  111095.004218  13559.512535   \n",
       "\n",
       "                    AUS(Transportation)    AUS(Food)  AUS(Entertainment)  \\\n",
       "Unnamed: 0                                                                 \n",
       "AUS(Agricultural)           2120.439248   180.693482          112.887843   \n",
       "AUS(Manufacturing)         14901.913058  1317.003570          854.645924   \n",
       "AUS(Mining)                 4601.220504  1349.722417          370.799047   \n",
       "AUS(Power)                   751.730968   104.759146           65.619152   \n",
       "AUS(Water)                 10236.400956  1926.548898         1171.585891   \n",
       "\n",
       "                        AUS(IT)       ...         ROW(Power)   ROW(Water)  \\\n",
       "Unnamed: 0                            ...                                   \n",
       "AUS(Agricultural)    150.731117       ...           1.062591    16.718117   \n",
       "AUS(Manufacturing)  1659.816854       ...          55.500607   118.810668   \n",
       "AUS(Mining)          429.335837       ...          10.696834    86.643642   \n",
       "AUS(Power)           280.918040       ...           5.889929    28.846039   \n",
       "AUS(Water)          3206.448231       ...          11.927153  1049.375107   \n",
       "\n",
       "                    ROW(Retail)  ROW(Transportation)   ROW(Food)  \\\n",
       "Unnamed: 0                                                         \n",
       "AUS(Agricultural)     15.200032            74.873009   76.142623   \n",
       "AUS(Manufacturing)   390.240738           775.420945  594.144021   \n",
       "AUS(Mining)           86.250594           297.373241  611.399571   \n",
       "AUS(Power)            13.512202            86.937123   45.837034   \n",
       "AUS(Water)            88.959063           300.552332  848.946128   \n",
       "\n",
       "                    ROW(Entertainment)    ROW(IT)  ROW(Finance)  \\\n",
       "Unnamed: 0                                                        \n",
       "AUS(Agricultural)             5.900960   1.519048     34.344245   \n",
       "AUS(Manufacturing)           79.944616  21.553076    212.755413   \n",
       "AUS(Mining)                  15.105845   5.421622    104.862540   \n",
       "AUS(Power)                    1.409978   2.343012     36.530058   \n",
       "AUS(Water)                   64.030242  24.078863    168.646854   \n",
       "\n",
       "                    ROW(Education)  ROW(Automobile)  \n",
       "Unnamed: 0                                           \n",
       "AUS(Agricultural)        59.681608        18.748025  \n",
       "AUS(Manufacturing)      248.448469        55.759338  \n",
       "AUS(Mining)             233.400884        57.951465  \n",
       "AUS(Power)               46.426905         3.798949  \n",
       "AUS(Water)              509.279321       112.070980  \n",
       "\n",
       "[5 rows x 572 columns]"
      ]
     },
     "execution_count": 78,
     "metadata": {},
     "output_type": "execute_result"
    }
   ],
   "source": [
    "Country_matrix14 = pd.read_csv('TotalSectorWiseData2014.csv')\n",
    "Country_matrix12 = pd.read_csv('TotalSectorWiseData2013.csv')\n",
    "Country_matrix14 = Country_matrix14.set_index('Unnamed: 0')\n",
    "Country_matrix12 = Country_matrix12.set_index('Unnamed: 0')\n",
    "Country_matrix14.head()"
   ]
  },
  {
   "cell_type": "code",
   "execution_count": 79,
   "metadata": {},
   "outputs": [
    {
     "data": {
      "text/plain": [
       "Index(['RUS(Entertainment)'], dtype='object', name='Unnamed: 0')"
      ]
     },
     "execution_count": 79,
     "metadata": {},
     "output_type": "execute_result"
    }
   ],
   "source": [
    "Country_matrix14.index[[476]]"
   ]
  },
  {
   "cell_type": "code",
   "execution_count": 80,
   "metadata": {},
   "outputs": [],
   "source": [
    "Country_matrix14 = Country_matrix14.drop(Country_matrix14.index[[476]])\n",
    "Country_matrix12 = Country_matrix12.drop(Country_matrix12.index[[476]])\n",
    "del Country_matrix12['RUS(Entertainment)']\n",
    "del Country_matrix14['RUS(Entertainment)']"
   ]
  },
  {
   "cell_type": "code",
   "execution_count": 81,
   "metadata": {},
   "outputs": [],
   "source": [
    "Countries = list(Country_matrix14)"
   ]
  },
  {
   "cell_type": "code",
   "execution_count": 82,
   "metadata": {},
   "outputs": [
    {
     "data": {
      "text/plain": [
       "(1, 571)"
      ]
     },
     "execution_count": 82,
     "metadata": {},
     "output_type": "execute_result"
    }
   ],
   "source": [
    "gdp_14 = sum(np.matrix(Country_matrix14))\n",
    "gdp_12 = sum(np.matrix(Country_matrix12))\n",
    "gdp_14.shape"
   ]
  },
  {
   "cell_type": "code",
   "execution_count": 83,
   "metadata": {},
   "outputs": [
    {
     "data": {
      "text/plain": [
       "39686.22874013931"
      ]
     },
     "execution_count": 83,
     "metadata": {},
     "output_type": "execute_result"
    }
   ],
   "source": [
    "gdp_14[0,476]"
   ]
  },
  {
   "cell_type": "code",
   "execution_count": 84,
   "metadata": {},
   "outputs": [],
   "source": [
    "normalizing_value = gdp_14.max()"
   ]
  },
  {
   "cell_type": "code",
   "execution_count": 85,
   "metadata": {},
   "outputs": [],
   "source": [
    "gdp_12_normalized = [x / normalizing_value for x in gdp_12]\n",
    "gdp_14_normalized = [x / normalizing_value for x in gdp_14]"
   ]
  },
  {
   "cell_type": "code",
   "execution_count": 86,
   "metadata": {},
   "outputs": [
    {
     "data": {
      "text/plain": [
       "(571, 571)"
      ]
     },
     "execution_count": 86,
     "metadata": {},
     "output_type": "execute_result"
    }
   ],
   "source": [
    "Country_matrix14.shape"
   ]
  },
  {
   "cell_type": "code",
   "execution_count": 87,
   "metadata": {},
   "outputs": [
    {
     "data": {
      "text/plain": [
       "(571, 571)"
      ]
     },
     "execution_count": 87,
     "metadata": {},
     "output_type": "execute_result"
    }
   ],
   "source": [
    "fraction_ownership = np.matrix(Country_matrix14)/gdp_14\n",
    "fraction_ownership.shape"
   ]
  },
  {
   "cell_type": "code",
   "execution_count": 88,
   "metadata": {},
   "outputs": [
    {
     "data": {
      "text/plain": [
       "3.019673061564309e-07"
      ]
     },
     "execution_count": 88,
     "metadata": {},
     "output_type": "execute_result"
    }
   ],
   "source": [
    "fraction_ownership[1,476]"
   ]
  },
  {
   "cell_type": "code",
   "execution_count": 89,
   "metadata": {},
   "outputs": [
    {
     "data": {
      "text/plain": [
       "matrix([[0.22897385, 0.        , 0.        , ..., 0.        , 0.        ,\n",
       "         0.        ],\n",
       "        [0.        , 0.193814  , 0.        , ..., 0.        , 0.        ,\n",
       "         0.        ],\n",
       "        [0.        , 0.        , 0.02788178, ..., 0.        , 0.        ,\n",
       "         0.        ],\n",
       "        ...,\n",
       "        [0.        , 0.        , 0.        , ..., 0.17173231, 0.        ,\n",
       "         0.        ],\n",
       "        [0.        , 0.        , 0.        , ..., 0.        , 0.20568882,\n",
       "         0.        ],\n",
       "        [0.        , 0.        , 0.        , ..., 0.        , 0.        ,\n",
       "         0.45454164]])"
      ]
     },
     "execution_count": 89,
     "metadata": {},
     "output_type": "execute_result"
    }
   ],
   "source": [
    "C_hat = np.matrix(np.diag(np.diag(fraction_ownership)))\n",
    "C_hat"
   ]
  },
  {
   "cell_type": "code",
   "execution_count": 90,
   "metadata": {},
   "outputs": [
    {
     "data": {
      "text/plain": [
       "matrix([[0.00000000e+00, 2.60116165e-02, 7.60655789e-04, ...,\n",
       "         3.14466838e-05, 9.54926860e-05, 3.85737060e-05],\n",
       "        [4.78221471e-01, 0.00000000e+00, 1.50911706e-01, ...,\n",
       "         1.94805627e-04, 3.97526345e-04, 1.14723781e-04],\n",
       "        [9.44181542e-03, 4.49001530e-02, 0.00000000e+00, ...,\n",
       "         9.60154790e-05, 3.73449677e-04, 1.19234040e-04],\n",
       "        ...,\n",
       "        [2.11533458e-04, 1.06668701e-03, 1.89013217e-04, ...,\n",
       "         0.00000000e+00, 4.08411633e-02, 4.06770659e-02],\n",
       "        [9.26525273e-04, 2.74683664e-03, 8.89834832e-04, ...,\n",
       "         1.22297995e-01, 0.00000000e+00, 7.64683029e-02],\n",
       "        [1.82444818e-06, 4.27819784e-03, 3.46949559e-04, ...,\n",
       "         1.96004150e-02, 2.38729547e-02, 0.00000000e+00]])"
      ]
     },
     "execution_count": 90,
     "metadata": {},
     "output_type": "execute_result"
    }
   ],
   "source": [
    "C_matrix = fraction_ownership - C_hat\n",
    "C_matrix"
   ]
  },
  {
   "cell_type": "code",
   "execution_count": 91,
   "metadata": {},
   "outputs": [
    {
     "data": {
      "text/plain": [
       "5.5571760968810556e-08"
      ]
     },
     "execution_count": 91,
     "metadata": {},
     "output_type": "execute_result"
    }
   ],
   "source": [
    "C_matrix[3,476]"
   ]
  },
  {
   "cell_type": "code",
   "execution_count": 92,
   "metadata": {},
   "outputs": [
    {
     "data": {
      "text/plain": [
       "matrix([[2.35334796e-01, 1.07137280e-02, 2.33659071e-03, ...,\n",
       "         1.81904786e-04, 1.93836642e-04, 1.70891857e-04],\n",
       "        [1.06773136e-01, 2.13303356e-01, 3.43304172e-02, ...,\n",
       "         9.01967806e-04, 8.64841129e-04, 7.52028336e-04],\n",
       "        [2.00795150e-03, 2.83528895e-03, 2.84792570e-02, ...,\n",
       "         6.11078019e-05, 6.64172011e-05, 5.59565219e-05],\n",
       "        ...,\n",
       "        [3.58825111e-03, 4.01619378e-03, 3.29411525e-03, ...,\n",
       "         1.83063736e-01, 1.53967654e-02, 1.33131733e-02],\n",
       "        [9.63387359e-03, 1.06614160e-02, 9.19074247e-03, ...,\n",
       "         5.37212228e-02, 2.28299465e-01, 3.23909225e-02],\n",
       "        [6.25571033e-03, 7.64206093e-03, 6.90202284e-03, ...,\n",
       "         2.89792941e-02, 2.35703013e-02, 4.66839415e-01]])"
      ]
     },
     "execution_count": 92,
     "metadata": {},
     "output_type": "execute_result"
    }
   ],
   "source": [
    "A_matrix = np.dot(C_hat, np.linalg.inv((np.diag(np.ones(len(C_matrix))) - C_matrix)))\n",
    "A_matrix"
   ]
  },
  {
   "cell_type": "code",
   "execution_count": 97,
   "metadata": {},
   "outputs": [],
   "source": [
    "# A_matrix.sum(axis = 0)"
   ]
  },
  {
   "cell_type": "code",
   "execution_count": null,
   "metadata": {},
   "outputs": [],
   "source": []
  }
 ],
 "metadata": {
  "kernelspec": {
   "display_name": "Python 3",
   "language": "python",
   "name": "python3"
  },
  "language_info": {
   "codemirror_mode": {
    "name": "ipython",
    "version": 3
   },
   "file_extension": ".py",
   "mimetype": "text/x-python",
   "name": "python",
   "nbconvert_exporter": "python",
   "pygments_lexer": "ipython3",
   "version": "3.6.5"
  }
 },
 "nbformat": 4,
 "nbformat_minor": 2
}
